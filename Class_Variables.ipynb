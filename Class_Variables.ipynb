{
 "cells": [
  {
   "cell_type": "markdown",
   "metadata": {},
   "source": [
    "# Class Variables"
   ]
  },
  {
   "cell_type": "markdown",
   "metadata": {},
   "source": [
    "## These variables are declared inside the class. Due to the way classes work they have various properties"
   ]
  },
  {
   "cell_type": "markdown",
   "metadata": {},
   "source": [
    "## 1) They can be accessed even if an instance is not initialized"
   ]
  },
  {
   "cell_type": "code",
   "execution_count": 1,
   "metadata": {},
   "outputs": [
    {
     "name": "stdout",
     "output_type": "stream",
     "text": [
      "1.04\n"
     ]
    }
   ],
   "source": [
    "class Employee:\n",
    "    emp_salary_hike = 1.04 #<-- this isa class variable\n",
    "\n",
    "    def __init__(self, first, last, pay):\n",
    "        self.first = first\n",
    "        self.last = last\n",
    "        self.pay = pay\n",
    "        self.email = first + \".\" + last + '@company.com'\n",
    "\n",
    "\n",
    "print(Employee.emp_salary_hike)"
   ]
  },
  {
   "cell_type": "markdown",
   "metadata": {},
   "source": [
    "## If a class variable is changed through an instance variable, It does effect its value in other instances"
   ]
  },
  {
   "cell_type": "code",
   "execution_count": 2,
   "metadata": {},
   "outputs": [
    {
     "name": "stdout",
     "output_type": "stream",
     "text": [
      "Salary hike of emp 1 is 1.05\n",
      "Salary hike of emp 2 is 1.04\n",
      "Salary hike of the Employee class is 1.04\n"
     ]
    }
   ],
   "source": [
    "emp1 = Employee(\"Soham\",\"Hegde\",\"2000000\")\n",
    "emp2 = Employee(\"Mahos\",\"Hegde\",\"1000000\")\n",
    "emp1.emp_salary_hike = 1.05\n",
    "\n",
    "print(f'Salary hike of emp 1 is {emp1.emp_salary_hike}')\n",
    "print(f'Salary hike of emp 2 is {emp2.emp_salary_hike}')\n",
    "print(f'Salary hike of the Employee class is {Employee.emp_salary_hike}')"
   ]
  },
  {
   "cell_type": "markdown",
   "metadata": {},
   "source": [
    "# Example "
   ]
  },
  {
   "cell_type": "code",
   "execution_count": 6,
   "metadata": {},
   "outputs": [
    {
     "name": "stdout",
     "output_type": "stream",
     "text": [
      "0\n",
      "1 <---- employee population after 1 employee is added\n",
      "2 <-----employee population after 2 employees are added\n"
     ]
    }
   ],
   "source": [
    "class Employee:\n",
    "    emp_salary_hike = 1.04 #<-- this isa class variable\n",
    "    employee_population = 0\n",
    "    def __init__(self, first, last, pay):\n",
    "        self.first = first\n",
    "        self.last = last\n",
    "        self.pay = pay\n",
    "        self.email = first + \".\" + last + '@company.com'\n",
    "\n",
    "        Employee.employee_population+=1 #This will increment one time everytime an instance of the employee class is created\n",
    "\n",
    "\n",
    "print(Employee.employee_population)\n",
    "\n",
    "emp1 = Employee(\"Soham\",\"Hegde\",\"2000000\")\n",
    "print(f'{Employee.employee_population} <---- employee population after 1 employee is added')\n",
    "\n",
    "emp2 = Employee(\"Mahos\",\"Hegde\",\"1000000\")\n",
    "print(f'{Employee.employee_population} <-----employee population after 2 employees are added')\n",
    "\n",
    "# print(emp1.employee_population()) <------- this will give out a non collable error"
   ]
  }
 ],
 "metadata": {
  "interpreter": {
   "hash": "ded549a2dc71e624129d7f595681f4ddeefce0f3e5e81c2141da4c138e6d2aa4"
  },
  "kernelspec": {
   "display_name": "Python 3.9.5 64-bit",
   "language": "python",
   "name": "python3"
  },
  "language_info": {
   "codemirror_mode": {
    "name": "ipython",
    "version": 3
   },
   "file_extension": ".py",
   "mimetype": "text/x-python",
   "name": "python",
   "nbconvert_exporter": "python",
   "pygments_lexer": "ipython3",
   "version": "3.9.5"
  },
  "orig_nbformat": 4
 },
 "nbformat": 4,
 "nbformat_minor": 2
}
