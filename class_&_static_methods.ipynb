{
 "cells": [
  {
   "cell_type": "markdown",
   "metadata": {},
   "source": [
    "# Class methods "
   ]
  },
  {
   "cell_type": "markdown",
   "metadata": {},
   "source": [
    "#### Regular methods in a class automatically takes the instance as a class (self)"
   ]
  },
  {
   "cell_type": "code",
   "execution_count": 1,
   "metadata": {},
   "outputs": [],
   "source": [
    "class Employee:\n",
    "    emp_salary_hike = 1.04 #<-- this isa class variable\n",
    "\n",
    "    def __init__(self, first, last, pay):\n",
    "        self.first = first\n",
    "        self.last = last\n",
    "        self.pay = pay\n",
    "        self.email = first + \".\" + last + '@company.com'\n",
    "\n",
    "    def incr_emp_salary(self):\n",
    "        self.pay = self.pay*1.04"
   ]
  },
  {
   "cell_type": "markdown",
   "metadata": {},
   "source": [
    "### To make a class method simply add @classmethod decorater over the method"
   ]
  },
  {
   "cell_type": "code",
   "execution_count": 2,
   "metadata": {},
   "outputs": [
    {
     "name": "stdout",
     "output_type": "stream",
     "text": [
      "1.04\n",
      "1.04\n",
      "1.04\n",
      "After using the class method\n",
      "1.05\n",
      "1.05\n",
      "1.05\n"
     ]
    }
   ],
   "source": [
    "class Employee:\n",
    "    emp_salary_hike = 1.04 #<-- this isa class variable\n",
    "\n",
    "    def __init__(self, first, last, pay):\n",
    "        self.first = first\n",
    "        self.last = last\n",
    "        self.pay = pay\n",
    "        self.email = first + \".\" + last + '@company.com'\n",
    "\n",
    "    def incr_emp_salary(self):\n",
    "        self.pay = self.pay*1.04\n",
    "\n",
    "    @classmethod\n",
    "    def set_raise_amt(cls, amount):  #Cls is the naming convention for class method\n",
    "        cls.emp_salary_hike = amount\n",
    "\n",
    "\n",
    "emp1 = Employee(\"Soham\",\"Hegde\",\"2000000\")\n",
    "emp2 = Employee(\"Mahos\",\"Hegde\",\"1000000\")\n",
    "\n",
    "print(Employee.emp_salary_hike)\n",
    "print(emp1.emp_salary_hike)\n",
    "print(emp2.emp_salary_hike)\n",
    "\n",
    "Employee.set_raise_amt(1.05)\n",
    "print(\"After using the class method\")\n",
    "\n",
    "print(Employee.emp_salary_hike)\n",
    "print(emp1.emp_salary_hike)\n",
    "print(emp2.emp_salary_hike)"
   ]
  },
  {
   "cell_type": "code",
   "execution_count": null,
   "metadata": {},
   "outputs": [],
   "source": []
  }
 ],
 "metadata": {
  "interpreter": {
   "hash": "ded549a2dc71e624129d7f595681f4ddeefce0f3e5e81c2141da4c138e6d2aa4"
  },
  "kernelspec": {
   "display_name": "Python 3.9.5 64-bit",
   "language": "python",
   "name": "python3"
  },
  "language_info": {
   "codemirror_mode": {
    "name": "ipython",
    "version": 3
   },
   "file_extension": ".py",
   "mimetype": "text/x-python",
   "name": "python",
   "nbconvert_exporter": "python",
   "pygments_lexer": "ipython3",
   "version": "3.9.5"
  },
  "orig_nbformat": 4
 },
 "nbformat": 4,
 "nbformat_minor": 2
}
